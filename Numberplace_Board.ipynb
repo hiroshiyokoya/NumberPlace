{
 "cells": [
  {
   "cell_type": "code",
   "execution_count": null,
   "metadata": {},
   "outputs": [],
   "source": [
    "from number_place import *"
   ]
  },
  {
   "cell_type": "code",
   "execution_count": null,
   "metadata": {},
   "outputs": [],
   "source": [
    "# question 86\n",
    "board_init = [\n",
    "    {'row':1, 'col':2, 'val':9},\n",
    "    {'row':1, 'col':5, 'val':7},\n",
    "\n",
    "    {'row':2, 'col':3, 'val':2},\n",
    "    {'row':2, 'col':6, 'val':6},\n",
    "    {'row':2, 'col':9, 'val':5},\n",
    "\n",
    "    {'row':3, 'col':4, 'val':5},\n",
    "    {'row':3, 'col':6, 'val':2},\n",
    "    {'row':3, 'col':8, 'val':6},\n",
    "\n",
    "    {'row':4, 'col':3, 'val':3},\n",
    "    {'row':4, 'col':4, 'val':4},\n",
    "    {'row':4, 'col':6, 'val':5},\n",
    "    {'row':4, 'col':7, 'val':7},\n",
    "\n",
    "    {'row':5, 'col':2, 'val':4},\n",
    "    {'row':5, 'col':9, 'val':3},\n",
    "\n",
    "    {'row':6, 'col':1, 'val':2},\n",
    "    {'row':6, 'col':4, 'val':7},\n",
    "    {'row':6, 'col':5, 'val':6},\n",
    "    {'row':6, 'col':7, 'val':4},\n",
    "    {'row':6, 'col':8, 'val':1},\n",
    "\n",
    "    {'row':7, 'col':3, 'val':9},\n",
    "    {'row':7, 'col':5, 'val':2},\n",
    "    {'row':7, 'col':7, 'val':6},\n",
    "\n",
    "    {'row':8, 'col':2, 'val':2},\n",
    "    {'row':8, 'col':5, 'val':9},\n",
    "    {'row':8, 'col':8, 'val':3},\n",
    "\n",
    "    {'row':9, 'col':1, 'val':7},\n",
    "    {'row':9, 'col':6, 'val':1},\n",
    "    {'row':9, 'col':9, 'val':4},\n",
    "]"
   ]
  },
  {
   "cell_type": "code",
   "execution_count": null,
   "metadata": {},
   "outputs": [],
   "source": [
    "# question 172\n",
    "board_init = [\n",
    "\n",
    "    {'row':2, 'col':1, 'val':4},\n",
    "    {'row':2, 'col':2, 'val':7},\n",
    "    {'row':2, 'col':3, 'val':1},\n",
    "    {'row':2, 'col':4, 'val':2},\n",
    "    {'row':2, 'col':5, 'val':3},\n",
    "\n",
    "    {'row':3, 'col':2, 'val':6},\n",
    "    {'row':3, 'col':5, 'val':4},\n",
    "    {'row':3, 'col':9, 'val':3},\n",
    "\n",
    "    {'row':4, 'col':3, 'val':6},\n",
    "    {'row':4, 'col':5, 'val':7},\n",
    "    {'row':4, 'col':8, 'val':1},\n",
    "\n",
    "    {'row':5, 'col':4, 'val':3},\n",
    "    {'row':5, 'col':5, 'val':8},\n",
    "    {'row':5, 'col':7, 'val':4},\n",
    "\n",
    "    {'row':6, 'col':3, 'val':3},\n",
    "    {'row':6, 'col':5, 'val':2},\n",
    "    {'row':6, 'col':6, 'val':5},\n",
    "\n",
    "    {'row':7, 'col':2, 'val':1},\n",
    "    {'row':7, 'col':5, 'val':6},\n",
    "    {'row':7, 'col':7, 'val':7},\n",
    "\n",
    "    {'row':8, 'col':1, 'val':8},\n",
    "    {'row':8, 'col':5, 'val':9},\n",
    "    {'row':8, 'col':6, 'val':7},\n",
    "    {'row':8, 'col':7, 'val':2},\n",
    "    {'row':8, 'col':8, 'val':4},\n",
    "\n",
    "]"
   ]
  },
  {
   "cell_type": "code",
   "execution_count": null,
   "metadata": {},
   "outputs": [],
   "source": [
    "# board_init"
   ]
  },
  {
   "cell_type": "code",
   "execution_count": null,
   "metadata": {},
   "outputs": [],
   "source": [
    "board = Board(board_init)\n",
    "print(board.count_unfilled())\n",
    "board.draw()"
   ]
  },
  {
   "cell_type": "code",
   "execution_count": null,
   "metadata": {},
   "outputs": [],
   "source": [
    "# board.reset()\n",
    "\n",
    "board.step_solve()\n",
    "board.draw()\n",
    "board.count_unfilled()"
   ]
  },
  {
   "cell_type": "code",
   "execution_count": null,
   "metadata": {},
   "outputs": [],
   "source": [
    "# board.reset()\n",
    "board.solve()"
   ]
  },
  {
   "cell_type": "code",
   "execution_count": null,
   "metadata": {},
   "outputs": [],
   "source": [
    "# board.draw_init()"
   ]
  },
  {
   "cell_type": "code",
   "execution_count": null,
   "metadata": {},
   "outputs": [],
   "source": []
  }
 ],
 "metadata": {
  "kernelspec": {
   "display_name": "Python 3",
   "language": "python",
   "name": "python3"
  },
  "language_info": {
   "codemirror_mode": {
    "name": "ipython",
    "version": 3
   },
   "file_extension": ".py",
   "mimetype": "text/x-python",
   "name": "python",
   "nbconvert_exporter": "python",
   "pygments_lexer": "ipython3",
   "version": "3.7.7"
  }
 },
 "nbformat": 4,
 "nbformat_minor": 4
}
