{
 "cells": [
  {
   "cell_type": "code",
   "execution_count": null,
   "metadata": {},
   "outputs": [],
   "source": [
    "%load_ext autoreload\n",
    "%autoreload 2"
   ]
  },
  {
   "cell_type": "code",
   "execution_count": null,
   "metadata": {},
   "outputs": [],
   "source": [
    "import glob\n",
    "import numpy as np\n",
    "import cv2\n",
    "import matplotlib.pyplot as plt"
   ]
  },
  {
   "cell_type": "code",
   "execution_count": null,
   "metadata": {},
   "outputs": [],
   "source": [
    "import sys\n",
    "sys.path.append('./')\n",
    "from capture_board import *"
   ]
  },
  {
   "cell_type": "code",
   "execution_count": null,
   "metadata": {},
   "outputs": [],
   "source": [
    "image_paths = sorted(glob.glob('./images/*'))\n",
    "image_paths"
   ]
  },
  {
   "cell_type": "code",
   "execution_count": null,
   "metadata": {},
   "outputs": [],
   "source": [
    "path = image_paths[0]\n",
    "image = cv2.imread(path,0)\n",
    "image.shape"
   ]
  },
  {
   "cell_type": "code",
   "execution_count": null,
   "metadata": {},
   "outputs": [],
   "source": [
    "print(np.min(image), np.max(image))\n",
    "plt.hist(image.ravel(), bins=51,range=[0,255])\n",
    "plt.show()"
   ]
  },
  {
   "cell_type": "code",
   "execution_count": null,
   "metadata": {},
   "outputs": [],
   "source": [
    "plt.imshow(image,cmap='gray', vmin=0, vmax=255)\n",
    "plt.show()"
   ]
  },
  {
   "cell_type": "code",
   "execution_count": null,
   "metadata": {},
   "outputs": [],
   "source": [
    "image_resized = cv2.resize(image, None, fx=0.3, fy=0.3)\n",
    "plt.imshow(image_resized,cmap='gray', vmin=0, vmax=255)\n",
    "plt.show()"
   ]
  },
  {
   "cell_type": "markdown",
   "metadata": {},
   "source": [
    "# Canny edge"
   ]
  },
  {
   "cell_type": "code",
   "execution_count": null,
   "metadata": {},
   "outputs": [],
   "source": [
    "# image_canny = cv2.Canny(image_resized,50,150,apertureSize = 3)"
   ]
  },
  {
   "cell_type": "code",
   "execution_count": null,
   "metadata": {},
   "outputs": [],
   "source": [
    "# plt.figure(figsize=(30,20))\n",
    "# plt.imshow(image_canny,cmap='gray', vmin=0, vmax=255)\n",
    "# plt.show()"
   ]
  },
  {
   "cell_type": "markdown",
   "metadata": {},
   "source": [
    "# Laplacian filter"
   ]
  },
  {
   "cell_type": "code",
   "execution_count": null,
   "metadata": {},
   "outputs": [],
   "source": [
    "image_lap = cv2.Laplacian(image_resized, cv2.CV_32F, ksize=29)\n",
    "print(np.min(image_lap), np.max(image_lap))\n",
    "\n",
    "plt.hist(image_lap.ravel(), bins=51)\n",
    "plt.show()\n",
    "\n",
    "# plt.imshow(image_lap, cmap='gray')\n",
    "# plt.show()"
   ]
  },
  {
   "cell_type": "code",
   "execution_count": null,
   "metadata": {},
   "outputs": [],
   "source": [
    "lap_med, lap_max = np.median(image_lap.ravel()), np.max(image_lap.ravel())\n",
    "image_lap_norm = (image_lap - lap_med)/(lap_max-lap_med)\n",
    "image_lap_norm[image_lap_norm<0] = 0\n",
    "image_lap_pow = pow(image_lap_norm, 1/2)\n",
    "image_lap_pow = (image_lap_pow*255).astype(np.uint8)\n",
    "\n",
    "plt.hist(image_lap_pow.ravel(), bins=51)\n",
    "plt.show()"
   ]
  },
  {
   "cell_type": "code",
   "execution_count": null,
   "metadata": {},
   "outputs": [],
   "source": [
    "plt.figure(figsize=(30,20))\n",
    "plt.imshow(image_lap_pow>50, cmap='gray')\n",
    "plt.show()"
   ]
  },
  {
   "cell_type": "markdown",
   "metadata": {},
   "source": [
    "## Hough line"
   ]
  },
  {
   "cell_type": "code",
   "execution_count": null,
   "metadata": {},
   "outputs": [],
   "source": [
    "# lines = cv2.HoughLines(image_lap_pow,1, np.pi/180,150).squeeze()\n",
    "# print(len(lines))\n",
    "\n",
    "# draw = cv2.cvtColor(image_lap_pow, cv2.COLOR_GRAY2RGB)\n",
    "# for rho,theta in lines:\n",
    "#     a = np.cos(theta)\n",
    "#     b = np.sin(theta)\n",
    "#     x0 = a*rho\n",
    "#     y0 = b*rho\n",
    "#     x1 = int(x0 + 1000*(-b))\n",
    "#     y1 = int(y0 + 1000*(a))\n",
    "#     x2 = int(x0 - 1000*(-b))\n",
    "#     y2 = int(y0 - 1000*(a))\n",
    "\n",
    "#     cv2.line(draw,(x1,y1),(x2,y2),(0,0,255),2)"
   ]
  },
  {
   "cell_type": "code",
   "execution_count": null,
   "metadata": {},
   "outputs": [],
   "source": [
    "# plt.figure(figsize=(30,20))\n",
    "# plt.imshow(draw)\n",
    "# plt.show()"
   ]
  },
  {
   "cell_type": "markdown",
   "metadata": {},
   "source": [
    "# findContour"
   ]
  },
  {
   "cell_type": "code",
   "execution_count": null,
   "metadata": {},
   "outputs": [],
   "source": [
    "from skimage.color import label2rgb"
   ]
  },
  {
   "cell_type": "code",
   "execution_count": null,
   "metadata": {},
   "outputs": [],
   "source": [
    "retval, labels, stats, centroids = cv2.connectedComponentsWithStats((image_lap_pow>50).astype(np.uint8))"
   ]
  },
  {
   "cell_type": "code",
   "execution_count": null,
   "metadata": {},
   "outputs": [],
   "source": [
    "border_labels = list(set(np.unique(labels[0,:])) | set(np.unique(labels[:,0])) | set(np.unique(labels[-1,:])) | set(np.unique(labels[:,-1])))\n",
    "\n",
    "full_labels = [ label for label in range(len(stats)) if label not in border_labels ]\n",
    "full_label_image = labels.copy()\n",
    "for border in border_labels:\n",
    "    full_label_image[full_label_image==border] = 0"
   ]
  },
  {
   "cell_type": "code",
   "execution_count": null,
   "metadata": {},
   "outputs": [],
   "source": [
    "plt.figure(figsize=(30,20))\n",
    "plt.imshow(label2rgb(full_label_image, bg_label=0))\n",
    "plt.show()"
   ]
  },
  {
   "cell_type": "code",
   "execution_count": null,
   "metadata": {},
   "outputs": [],
   "source": [
    "candidate_idx = np.argmax(stats[full_labels][:,-1])\n",
    "candidate = stats[full_labels][candidate_idx]"
   ]
  },
  {
   "cell_type": "code",
   "execution_count": null,
   "metadata": {},
   "outputs": [],
   "source": [
    "len(stats), candidate"
   ]
  },
  {
   "cell_type": "code",
   "execution_count": null,
   "metadata": {},
   "outputs": [],
   "source": [
    "candidate_original_idx = np.array(list(range(len(stats))))[full_labels][candidate_idx]\n",
    "frame = (label2rgb(full_label_image==candidate_original_idx, bg_label=0)*255).astype(np.uint8)\n",
    "# cv2.rectangle(draw, (candidate[0], candidate[1]), (candidate[0]+candidate[2], candidate[1]+candidate[3]), (255,255,255), 3)\n",
    "\n",
    "draw = (frame*0.5 + cv2.cvtColor(image_resized, cv2.COLOR_GRAY2RGB)*0.5).astype(np.uint8)\n",
    "plt.figure(figsize=(30,20))\n",
    "plt.imshow(draw)\n",
    "plt.show()"
   ]
  },
  {
   "cell_type": "code",
   "execution_count": null,
   "metadata": {},
   "outputs": [],
   "source": [
    "frame_gr = cv2.cvtColor(frame, cv2.COLOR_RGB2GRAY)"
   ]
  },
  {
   "cell_type": "code",
   "execution_count": null,
   "metadata": {},
   "outputs": [],
   "source": [
    "corners = get_corners(frame_gr)"
   ]
  },
  {
   "cell_type": "code",
   "execution_count": null,
   "metadata": {},
   "outputs": [],
   "source": [
    "corners"
   ]
  },
  {
   "cell_type": "code",
   "execution_count": null,
   "metadata": {},
   "outputs": [],
   "source": [
    "draw = frame.copy()\n",
    "for i, corner in enumerate(corners):\n",
    "    print(corner)\n",
    "    cv2.circle(draw, tuple(corner[::-1]), 8, (0,255,0), -1)\n",
    "plt.figure(figsize=(30,20))\n",
    "plt.imshow(draw)\n",
    "plt.show()"
   ]
  },
  {
   "cell_type": "code",
   "execution_count": null,
   "metadata": {},
   "outputs": [],
   "source": [
    "width = 28\n",
    "height = 28\n",
    "board_width = width*9\n",
    "board_height = height*9"
   ]
  },
  {
   "cell_type": "code",
   "execution_count": null,
   "metadata": {},
   "outputs": [],
   "source": [
    "src = np.float32([ corner for corner in corners ])\n",
    "\n",
    "# 変換後の4点\n",
    "dst = np.float32([[0, 0],[0, board_width],[board_height, 0],[board_height,board_width]])\n",
    " \n",
    "print(src.shape, dst.shape)\n",
    "# 変換行列\n",
    "M = cv2.getPerspectiveTransform(src[:,::-1], dst[:,::-1])\n",
    " \n",
    "# 射影変換・透視変換する\n",
    "output = cv2.warpPerspective(image_resized,M,(board_width, board_height))\n",
    "print(image_resized.shape, output.shape)"
   ]
  },
  {
   "cell_type": "code",
   "execution_count": null,
   "metadata": {},
   "outputs": [],
   "source": [
    "plt.figure(figsize=(30,20))\n",
    "plt.imshow(output, cmap='gray')\n",
    "# plt.grid()\n",
    "plt.show()"
   ]
  },
  {
   "cell_type": "code",
   "execution_count": null,
   "metadata": {},
   "outputs": [],
   "source": [
    "# def get_cell(output,i):\n",
    "#     j, k = i//9, i%9\n",
    "#     cell = output[28*j:28*(j+1),28*k:28*(k+1)]\n",
    "#     cell = 255 - (cell - np.min(cell))/(np.max(cell) - np.min(cell)) * 255\n",
    "#     ret, cell = cv2.threshold(cell, 150, 255, cv2.THRESH_BINARY)\n",
    "# #     cell = cv2.adaptiveThreshold(cell.astype(np.uint8),255,cv2.ADAPTIVE_THRESH_GAUSSIAN_C,\\\n",
    "# #             cv2.THRESH_BINARY,11,2)\n",
    "# #     cell = cv2.morphologyEx(cell, cv2.MORPH_ERODE, (3,3), 1)\n",
    "#     cell = cv2.morphologyEx(cell, cv2.MORPH_OPEN, (5,5), 1)\n",
    "# #     cell = cv2.morphologyEx(cell, cv2.MORPH_CLOSE, (5,5), 1)\n",
    "#     cell = cv2.morphologyEx(cell, cv2.MORPH_DILATE, (3,3), 1)\n",
    "#     return cell"
   ]
  },
  {
   "cell_type": "code",
   "execution_count": null,
   "metadata": {},
   "outputs": [],
   "source": [
    "plt.imshow(output)"
   ]
  },
  {
   "cell_type": "code",
   "execution_count": null,
   "metadata": {},
   "outputs": [],
   "source": [
    "%%time\n",
    "cells = np.array([ get_cell(output,i,width,height,50) for i in range(81) ])\n",
    "cells.shape"
   ]
  },
  {
   "cell_type": "code",
   "execution_count": null,
   "metadata": {},
   "outputs": [],
   "source": [
    "cells = capture_image(image_paths[0],width=28,height=28)\n",
    "print(cells.shape)"
   ]
  },
  {
   "cell_type": "code",
   "execution_count": null,
   "metadata": {},
   "outputs": [],
   "source": [
    "plt.figure(figsize=(6,6))\n",
    "for i,cell in enumerate(cells,1):\n",
    "    plt.subplot(9,9,i)\n",
    "    plt.imshow(cell, cmap='gray', vmin=0)\n",
    "    plt.axis('off')\n",
    "plt.tight_layout()\n",
    "plt.show()"
   ]
  },
  {
   "cell_type": "markdown",
   "metadata": {},
   "source": [
    "# Annotation label"
   ]
  },
  {
   "cell_type": "code",
   "execution_count": null,
   "metadata": {},
   "outputs": [],
   "source": [
    "labels = [\n",
    "    0,1,2,0,0,0,9,8,0,\n",
    "    7,0,0,2,0,8,0,0,4,\n",
    "    8,0,0,0,9,0,0,0,2,\n",
    "    0,2,8,0,0,0,6,3,0,\n",
    "    0,0,0,6,0,5,0,1,0,\n",
    "    0,4,6,0,0,9,0,7,0,\n",
    "    3,0,0,0,1,0,0,2,0,\n",
    "    0,6,5,9,0,0,8,0,0,\n",
    "    0,0,0,0,6,2,0,0,0\n",
    "]\n",
    "labels = np.array(labels)"
   ]
  },
  {
   "cell_type": "code",
   "execution_count": null,
   "metadata": {},
   "outputs": [],
   "source": [
    "for i in range(10):\n",
    "    plt.figure(figsize=(10,3))\n",
    "    for j,cell in enumerate(cells[labels==i][:10],1):\n",
    "        plt.subplot(1,10,j)\n",
    "        plt.imshow(cell, cmap='gray', vmin=0)\n",
    "        plt.axis('off')\n",
    "    plt.tight_layout()\n",
    "plt.show()"
   ]
  },
  {
   "cell_type": "code",
   "execution_count": null,
   "metadata": {},
   "outputs": [],
   "source": []
  },
  {
   "cell_type": "code",
   "execution_count": null,
   "metadata": {},
   "outputs": [],
   "source": []
  },
  {
   "cell_type": "code",
   "execution_count": null,
   "metadata": {},
   "outputs": [],
   "source": []
  }
 ],
 "metadata": {
  "kernelspec": {
   "display_name": "Python 3",
   "language": "python",
   "name": "python3"
  },
  "language_info": {
   "codemirror_mode": {
    "name": "ipython",
    "version": 3
   },
   "file_extension": ".py",
   "mimetype": "text/x-python",
   "name": "python",
   "nbconvert_exporter": "python",
   "pygments_lexer": "ipython3",
   "version": "3.7.7"
  }
 },
 "nbformat": 4,
 "nbformat_minor": 4
}
